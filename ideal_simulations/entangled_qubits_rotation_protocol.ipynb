{
 "cells": [
  {
   "cell_type": "code",
   "execution_count": null,
   "id": "c66a7ebe",
   "metadata": {},
   "outputs": [],
   "source": [
    "import numpy as np\n",
    "from qiskit import *\n",
    "from qiskit.quantum_info import Statevector\n",
    "from IPython.display import display, Math, Latex\n",
    "from math import pi, sqrt\n",
    "from qiskit.visualization import plot_bloch_multivector, plot_histogram\n",
    "import matplotlib.pyplot as plt"
   ]
  },
  {
   "cell_type": "code",
   "execution_count": null,
   "id": "53809fdb",
   "metadata": {
    "scrolled": false
   },
   "outputs": [],
   "source": [
    "# rotations = how many rotation steps\n",
    "rotations = 200\n",
    "\n",
    "# numShots = how many times to run each circuit\n",
    "numShots = 100000\n",
    "\n",
    "x_val = []\n",
    "y_val = [[], [], [], []]\n",
    "states = ['H', 'D', 'V', 'A']\n",
    "\n",
    "qc = QuantumCircuit(2, 2)\n",
    "\n",
    "for i in range(4):\n",
    "    \n",
    "    for j in range(rotations):\n",
    "        # build the circuit\n",
    "        qc.clear()\n",
    "        qc = QuantumCircuit(2, 2)\n",
    "        \n",
    "        # delta = phase difference\n",
    "        delta = .25\n",
    "        entangled_state = [1/sqrt(2), 0, 0, np.exp(1j*delta)/sqrt(2)]\n",
    "        qc.initialize(entangled_state, [0, 1])\n",
    "\n",
    "        # display the state for the first time\n",
    "        if i + j == 0:\n",
    "            display(Statevector(qc).draw(output='latex'))\n",
    "        \n",
    "        # keep A the same, and rotate B\n",
    "        qc.ry(i*pi/2, 0)\n",
    "        delta = 4*j*pi/rotations\n",
    "        qc.ry(delta, 1)\n",
    "        qc.measure([0, 1], [0, 1])\n",
    "\n",
    "        # simulate\n",
    "        backend = Aer.get_backend('qasm_simulator')\n",
    "        job = backend.run(transpile(qc, backend), shots=numShots)\n",
    "        result = job.result()\n",
    "        counts = result.get_counts(qc)\n",
    "\n",
    "        # put in a zero for the count if needed\n",
    "        if '00' in counts:\n",
    "            out0 = counts['00']\n",
    "        else:\n",
    "            out0 = 0 \n",
    "            \n",
    "        if i == 0:\n",
    "            x_val.append(delta)\n",
    "        \n",
    "        y_val[i].append(out0)\n",
    "\n",
    "fig, ax = plt.subplots()\n",
    "\n",
    "for i in range(4):\n",
    "    ax.plot(x_val, y_val[i], label=states[i])\n",
    "    \n",
    "ax.set_xlabel(\"Angle\")\n",
    "ax.set_ylabel(\"Counts\")\n",
    "ax.set_ylim(0 - 40, numShots + 40)\n",
    "x_ticks = ax.set_xticks([0, pi, 2*pi, 3*pi, 4*pi], ['0', 'π', '2π', '3π', '4π'])\n",
    "legend = plt.legend()"
   ]
  },
  {
   "cell_type": "code",
   "execution_count": null,
   "id": "db29d99d",
   "metadata": {},
   "outputs": [],
   "source": []
  }
 ],
 "metadata": {
  "kernelspec": {
   "display_name": "Python 3 (ipykernel)",
   "language": "python",
   "name": "python3"
  },
  "language_info": {
   "codemirror_mode": {
    "name": "ipython",
    "version": 3
   },
   "file_extension": ".py",
   "mimetype": "text/x-python",
   "name": "python",
   "nbconvert_exporter": "python",
   "pygments_lexer": "ipython3",
   "version": "3.10.11"
  }
 },
 "nbformat": 4,
 "nbformat_minor": 5
}
